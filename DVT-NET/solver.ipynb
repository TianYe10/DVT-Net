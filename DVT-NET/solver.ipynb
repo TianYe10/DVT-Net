{
 "cells": [
  {
   "cell_type": "code",
   "execution_count": null,
   "metadata": {},
   "outputs": [],
   "source": [
    "import numpy as np\n",
    "import matplotlib.pyplot as plt\n",
    "import pandas\n",
    "\n",
    "\n",
    "import csv\n",
    "import os\n",
    "\n",
    "import numpy as np\n",
    "\n",
    "from dataloader import image_dataloader\n",
    "from model import swin_t\n",
    "from train import train_model\n",
    "\n",
    "from torch.optim.lr_scheduler import StepLR\n",
    "import torch.nn as nn\n",
    "import torch.optim as optim"
   ]
  },
  {
   "cell_type": "code",
   "execution_count": null,
   "metadata": {},
   "outputs": [],
   "source": [
    "train_label_path = 'train.csv'\n",
    "val_label_path = 'val.csv'\n",
    "\n",
    "train_image_path = '.../train/rgb/'\n",
    "val_image_path = '.../val/rgb/'\n",
    "\n",
    "train_VSI_path = '.../train/vsi/'\n",
    "val_VSI_path = '.../val/vsi/'\n",
    "\n",
    "train_TDA_path = '.../tda/vsi/'\n",
    "val_TDA_path = '.../tda/vsi/'"
   ]
  },
  {
   "cell_type": "code",
   "execution_count": null,
   "metadata": {},
   "outputs": [],
   "source": [
    "image_datasets, dataloaders = image_dataloader(train_image_path, train_VSI_path, train_TDA_path, train_label_path = 'train.csv', \n",
    "                   bs = 5, \n",
    "                   val_image_path = val_image_path , val_VSI_path = val_VSI_path, val_TDA_path = val_TDA_path, val_label_path = 'val.csv' )"
   ]
  },
  {
   "cell_type": "code",
   "execution_count": null,
   "metadata": {},
   "outputs": [],
   "source": [
    "device = torch.device(\"cuda:1\" if torch.cuda.is_available() else \"cpu\")\n",
    "print(device)"
   ]
  },
  {
   "cell_type": "code",
   "execution_count": null,
   "metadata": {},
   "outputs": [],
   "source": [
    "model = swin_t()\n",
    "model.to(device)"
   ]
  },
  {
   "cell_type": "code",
   "execution_count": null,
   "metadata": {},
   "outputs": [],
   "source": [
    "\n",
    "criterion = nn.BCEWithLogitsLoss()\n",
    "lr = 1e-5\n",
    "optimizer = optim.Adam(model.parameters(), lr=1e-5)\n",
    "num_epochs = 30\n",
    "save_path = '.../result/model/'\n",
    "\n",
    "##### Adaptive lr #####\n",
    "#gamma = 0.7\n",
    "#scheduler = StepLR(optimizer, step_size=1, gamma=gamma)"
   ]
  },
  {
   "cell_type": "code",
   "execution_count": null,
   "metadata": {},
   "outputs": [],
   "source": [
    "model_trained = train_model(model, criterion, optimizer, num_epochs=30, device, image_datasets, dataloaders, save_path)\n",
    "(model1, train_f1, train_accuracy, val_f1, val_accuracy, save_outputs, save_labels, save_preds) = model_trained"
   ]
  },
  {
   "cell_type": "markdown",
   "metadata": {},
   "source": [
    "Save actual labels and predictions for ROC curve plot"
   ]
  },
  {
   "cell_type": "code",
   "execution_count": null,
   "metadata": {},
   "outputs": [],
   "source": [
    "save_labels = [int(labels) for labels in save_labels]\n",
    "save_preds = [int(preds) for preds in save_preds]\n",
    "\n",
    "output_document = []\n",
    "for i in range(len(val_image_path)):\n",
    "    single_list = []\n",
    "    single_list.append(save_labels[i])\n",
    "    single_list.append(save_outputs[i])\n",
    "    single_list.append(save_preds[i])\n",
    "    output_document.append(single_list)\n",
    "\n",
    "# field names \n",
    "fields = ['Actual Label', 'Output', 'Prediction'] \n",
    "    \n",
    "# data rows of csv file \n",
    "rows = output_document\n",
    "  \n",
    "with open('/result/outputs/best_hybrid', 'w') as f:\n",
    "    # using csv.writer method from CSV package\n",
    "    write = csv.writer(f)\n",
    "      \n",
    "    write.writerow(fields)\n",
    "    write.writerows(rows)\n",
    "\n",
    "print(pd.read_csv('task01_best_RGB'))"
   ]
  }
 ],
 "metadata": {
  "kernelspec": {
   "display_name": "Python 3.8.13 ('RVGANenv')",
   "language": "python",
   "name": "python3"
  },
  "language_info": {
   "name": "python",
   "version": "3.8.13"
  },
  "orig_nbformat": 4,
  "vscode": {
   "interpreter": {
    "hash": "6f64f4bed071435cf5e3440158606e7fb0dab12cb6211ae7f7ca3354575ca766"
   }
  }
 },
 "nbformat": 4,
 "nbformat_minor": 2
}
