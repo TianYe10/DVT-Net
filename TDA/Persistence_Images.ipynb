{
  "cells": [
    {
      "cell_type": "code",
      "execution_count": null,
      "metadata": {
        "id": "Tjs-RsrUBxCu"
      },
      "outputs": [],
      "source": [
        "\n",
        "\n",
        "from itertools import product\n",
        "import numpy as np\n",
        "#from sklearn import datasets\n",
        "#from scipy.stats import multivariate_normal as mvn\n",
        "import matplotlib.pyplot as plt\n",
        "#from ripser import Rips\n",
        "# !pip install persim\n",
        "from persim import PersistenceImager"
      ]
    },
    {
      "cell_type": "markdown",
      "metadata": {},
      "source": [
        "Printing a PersistenceImager() object will print its defining attributes\n",
        "\n",
        "`PersistenceImager()` attributes can be adjusted at or after instantiation.\n",
        "Updating attributes of a `PersistenceImager()` object will automatically update all other dependent attributes."
      ]
    },
    {
      "cell_type": "code",
      "execution_count": null,
      "metadata": {
        "colab": {
          "base_uri": "https://localhost:8080/"
        },
        "id": "pgJob8DjDH2g",
        "outputId": "87b33016-e258-4da9-8524-a1ff887f1144"
      },
      "outputs": [
        {
          "name": "stdout",
          "output_type": "stream",
          "text": [
            "PersistenceImager(birth_range=(0.0, 1.0), pers_range=(0.0, 1.0), pixel_size=0.2, weight=persistence, weight_params={'n': 1.0}, kernel=gaussian, kernel_params={'sigma': [[1.0, 0.0], [0.0, 1.0]]})\n"
          ]
        }
      ],
      "source": [
        "pimgr = PersistenceImager(pixel_size=0.2, birth_range=(0,1))\n",
        "print(pimgr)\n",
        "\n",
        "pimgr.pixel_size = 0.1\n",
        "pimgr.birth_range = (0, 2)\n",
        "print(pimgr.resolution)"
      ]
    },
    {
      "cell_type": "markdown",
      "metadata": {},
      "source": [
        "The `fit()` method can be called on one or more (*,2) numpy arrays to automatically determine the miniumum birth and persistence ranges needed to capture all persistence pairs. The ranges and resolution are automatically adjusted to accomodate the specified pixel size."
      ]
    },
    {
      "cell_type": "code",
      "execution_count": null,
      "metadata": {
        "colab": {
          "base_uri": "https://localhost:8080/"
        },
        "id": "RaWziGexDSgg",
        "outputId": "dc4cd125-7426-4214-bc82-30e0fcc32774"
      },
      "outputs": [
        {
          "name": "stdout",
          "output_type": "stream",
          "text": [
            "PersistenceImager(birth_range=(0.1, 3.1), pers_range=(-8.326672684688674e-17, 2.5), pixel_size=0.5, weight=persistence, weight_params={'n': 1.0}, kernel=gaussian, kernel_params={'sigma': [[1.0, 0.0], [0.0, 1.0]]})\n",
            "(6, 5)\n"
          ]
        }
      ],
      "source": [
        "pimgr = PersistenceImager(pixel_size=0.5)\n",
        "pdgms = [np.array([[0.5, 0.8], [0.7, 2.2], [2.5, 4.0]]),\n",
        "         np.array([[0.1, 0.2], [3.1, 3.3], [1.6, 2.9]]),\n",
        "         np.array([[0.2, 1.5], [0.4, 0.6], [0.2, 2.6]])]\n",
        "pimgr.fit(pdgms, skew=True)\n",
        "print(pimgr)\n",
        "print(pimgr.resolution)"
      ]
    },
    {
      "cell_type": "markdown",
      "metadata": {},
      "source": [
        "The `transform()` method can then be called on one or more (*,2) numpy arrays to generate persistence images from diagrams.\n",
        "\n",
        "The option `skew=True` specifies that the diagrams are currently in birth-death coordinates and must first be transformed to birth-persistence coordinates."
      ]
    },
    {
      "cell_type": "code",
      "execution_count": null,
      "metadata": {
        "colab": {
          "base_uri": "https://localhost:8080/"
        },
        "id": "nY3q82ccDXbI",
        "outputId": "8aabd26a-9800-413d-c285-9977a71ceba4"
      },
      "outputs": [],
      "source": [
        "pimgs = pimgr.transform(pdgms, skew=True)"
      ]
    },
    {
      "cell_type": "markdown",
      "metadata": {},
      "source": [
        "The `plot_diagram()` and `plot_image()` methods can be used to visualize persistence diagrams and images"
      ]
    },
    {
      "cell_type": "code",
      "execution_count": null,
      "metadata": {
        "colab": {
          "base_uri": "https://localhost:8080/",
          "height": 329
        },
        "id": "W9uDxquBDdn9",
        "outputId": "ab1002a8-9ac5-4766-a616-cb645c2f7d98"
      },
      "outputs": [
        {
          "data": {
            "image/png": "[encoded data removed]",
            "text/plain": [
              "<Figure size 720x360 with 3 Axes>"
            ]
          },
          "metadata": {
            "needs_background": "light"
          },
          "output_type": "display_data"
        }
      ],
      "source": [
        "fig, axs = plt.subplots(1, 3, figsize=(10,5))\n",
        "\n",
        "axs[0].set_title(\"Original Diagram\")\n",
        "pimgr.plot_diagram(pdgms[0], skew=False, ax=axs[0])\n",
        "\n",
        "axs[1].set_title(\"Birth-Persistence\\nCoordinates\")\n",
        "pimgr.plot_diagram(pdgms[0], skew=True, ax=axs[1])\n",
        "\n",
        "axs[2].set_title(\"Persistence Image\")\n",
        "pimgr.plot_image(pimgs[0], ax=axs[2])\n",
        "\n",
        "plt.tight_layout()"
      ]
    },
    {
      "cell_type": "code",
      "execution_count": null,
      "metadata": {
        "colab": {
          "base_uri": "https://localhost:8080/",
          "height": 283
        },
        "id": "mFjT3HnYDivF",
        "outputId": "f7079d1c-7650-4991-a71d-ff3e924dbef9"
      },
      "outputs": [
        {
          "data": {
            "text/plain": [
              "<matplotlib.axes._subplots.AxesSubplot at 0x7fa1d21cc450>"
            ]
          },
          "execution_count": 9,
          "metadata": {},
          "output_type": "execute_result"
        },
        {
          "data": {
            "image/png": "[encoded data removed]",
            "text/plain": [
              "<Figure size 432x288 with 1 Axes>"
            ]
          },
          "metadata": {},
          "output_type": "display_data"
        }
      ],
      "source": [
        "pimgr.plot_image(pimgs[0])"
      ]
    }
  ],
  "metadata": {
    "colab": {
      "provenance": []
    },
    "kernelspec": {
      "display_name": "Python 3.8.10 64-bit",
      "language": "python",
      "name": "python3"
    },
    "language_info": {
      "name": "python",
      "version": "3.8.10"
    },
    "vscode": {
      "interpreter": {
        "hash": "916dbcbb3f70747c44a77c7bcd40155683ae19c65e1c03b4aa3499c5328201f1"
      }
    }
  },
  "nbformat": 4,
  "nbformat_minor": 0
}
